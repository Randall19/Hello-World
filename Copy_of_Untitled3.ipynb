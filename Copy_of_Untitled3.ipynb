{
  "nbformat": 4,
  "nbformat_minor": 0,
  "metadata": {
    "colab": {
      "name": "Copy of Untitled3.ipynb",
      "provenance": [],
      "authorship_tag": "ABX9TyMxtnR2z3Y7+yUkx9kc9GS0",
      "include_colab_link": true
    },
    "kernelspec": {
      "name": "python3",
      "display_name": "Python 3"
    },
    "accelerator": "GPU"
  },
  "cells": [
    {
      "cell_type": "markdown",
      "metadata": {
        "id": "view-in-github",
        "colab_type": "text"
      },
      "source": [
        "<a href=\"https://colab.research.google.com/github/Randall19/Hello-World/blob/master/Copy_of_Untitled3.ipynb\" target=\"_parent\"><img src=\"https://colab.research.google.com/assets/colab-badge.svg\" alt=\"Open In Colab\"/></a>"
      ]
    },
    {
      "cell_type": "code",
      "metadata": {
        "id": "FeBiBfMG8ckl"
      },
      "source": [
        "# Enable TensorFlow 2.x\n",
        "%tensorflow_version 2.x"
      ],
      "execution_count": 1,
      "outputs": []
    },
    {
      "cell_type": "code",
      "metadata": {
        "colab": {
          "base_uri": "https://localhost:8080/",
          "height": 35
        },
        "id": "wJhuNp7e8mtK",
        "outputId": "61155c91-15db-4b4b-9387-452415eeb35b"
      },
      "source": [
        "# Import Tensorflow\n",
        "import tensorflow as tf \n",
        "tf.__version__"
      ],
      "execution_count": 2,
      "outputs": [
        {
          "output_type": "execute_result",
          "data": {
            "application/vnd.google.colaboratory.intrinsic+json": {
              "type": "string"
            },
            "text/plain": [
              "'2.4.0'"
            ]
          },
          "metadata": {
            "tags": []
          },
          "execution_count": 2
        }
      ]
    },
    {
      "cell_type": "code",
      "metadata": {
        "id": "cVgRPlgNY7eh"
      },
      "source": [
        "import numpy as np\n",
        "import matplotlib.pyplot as plt\n"
      ],
      "execution_count": 3,
      "outputs": []
    },
    {
      "cell_type": "code",
      "metadata": {
        "id": "YsiBLQK-ZPeI"
      },
      "source": [
        "(train_images, train_labels), (test_images, test_labels) = tf.keras.datasets.fashion_mnist.load_data()"
      ],
      "execution_count": 4,
      "outputs": []
    },
    {
      "cell_type": "code",
      "metadata": {
        "colab": {
          "base_uri": "https://localhost:8080/"
        },
        "id": "M6bk7NJRaAQU",
        "outputId": "3cb7ecb1-9592-431d-f240-caa80ec6aa40"
      },
      "source": [
        "print(\"train_images shape: \", train_images.shape,  \"train_labels shape: \" , train_labels.shape)"
      ],
      "execution_count": 17,
      "outputs": [
        {
          "output_type": "stream",
          "text": [
            "train_images shape:  (60000, 28, 28, 1) train_labels shape:  (60000, 10)\n"
          ],
          "name": "stdout"
        }
      ]
    },
    {
      "cell_type": "code",
      "metadata": {
        "colab": {
          "base_uri": "https://localhost:8080/"
        },
        "id": "i_qaxRpWamhO",
        "outputId": "b4cc1ca3-cf3d-4206-dc99-18d8a49581d9"
      },
      "source": [
        "print(\"test_images shape: \", test_images.shape,  \"test_labels shape: \" , test_labels.shape)"
      ],
      "execution_count": 5,
      "outputs": [
        {
          "output_type": "stream",
          "text": [
            "test_images shape:  (10000, 28, 28) test_labels shape:  (10000,)\n"
          ],
          "name": "stdout"
        }
      ]
    },
    {
      "cell_type": "code",
      "metadata": {
        "id": "HMym08TcbVgQ"
      },
      "source": [
        "train_images = train_images.astype('float32') /255\n",
        "test_images = test_images.astype('float32') /255"
      ],
      "execution_count": 7,
      "outputs": []
    },
    {
      "cell_type": "code",
      "metadata": {
        "id": "ldUn7ZzJcBap"
      },
      "source": [
        "train_images = train_images.reshape(train_images.shape[0], 28, 28, 1)\n",
        "test_images = test_images.reshape(test_images.shape[0], 28, 28, 1)"
      ],
      "execution_count": 8,
      "outputs": []
    },
    {
      "cell_type": "code",
      "metadata": {
        "colab": {
          "base_uri": "https://localhost:8080/"
        },
        "id": "g_gRKocBcp-P",
        "outputId": "e0a96051-3001-4711-b06c-c64df3974885"
      },
      "source": [
        "print (\"train_images shape: \" ,train_images.shape, \"train_labels shape: \", train_labels.shape)"
      ],
      "execution_count": 9,
      "outputs": [
        {
          "output_type": "stream",
          "text": [
            "train_images shape:  (60000, 28, 28, 1) train_labels shape:  (60000,)\n"
          ],
          "name": "stdout"
        }
      ]
    },
    {
      "cell_type": "code",
      "metadata": {
        "colab": {
          "base_uri": "https://localhost:8080/"
        },
        "id": "dbBWqDg0dL7Z",
        "outputId": "69084466-79f0-4d58-e0a4-35d73fcecb4a"
      },
      "source": [
        "print (\"test_images shape: \" ,test_images.shape, \"test_labels shape: \", test_labels.shape)"
      ],
      "execution_count": 10,
      "outputs": [
        {
          "output_type": "stream",
          "text": [
            "test_images shape:  (10000, 28, 28, 1) test_labels shape:  (10000,)\n"
          ],
          "name": "stdout"
        }
      ]
    },
    {
      "cell_type": "code",
      "metadata": {
        "id": "bpHIoslgdfZq"
      },
      "source": [
        "train_labels =tf.keras.utils.to_categorical(train_labels, 10)\n"
      ],
      "execution_count": 11,
      "outputs": []
    },
    {
      "cell_type": "code",
      "metadata": {
        "colab": {
          "base_uri": "https://localhost:8080/"
        },
        "id": "DDkCENV6RQLp",
        "outputId": "69eb5540-2e0f-4188-a59b-7ea42bf7029e"
      },
      "source": [
        "print(\"train_labels: \", train_labels.shape)"
      ],
      "execution_count": 12,
      "outputs": [
        {
          "output_type": "stream",
          "text": [
            "train_labels:  (60000, 10)\n"
          ],
          "name": "stdout"
        }
      ]
    },
    {
      "cell_type": "code",
      "metadata": {
        "id": "qKeSv8D_eCF5"
      },
      "source": [
        "test_labels =tf.keras.utils.to_categorical(test_labels, 10)\n"
      ],
      "execution_count": 13,
      "outputs": []
    },
    {
      "cell_type": "code",
      "metadata": {
        "colab": {
          "base_uri": "https://localhost:8080/"
        },
        "id": "oGEnYeQ1eQS_",
        "outputId": "e69d32b0-eeec-40f8-b035-1804cf593619"
      },
      "source": [
        "test_labels.shape"
      ],
      "execution_count": 14,
      "outputs": [
        {
          "output_type": "execute_result",
          "data": {
            "text/plain": [
              "(10000, 10)"
            ]
          },
          "metadata": {
            "tags": []
          },
          "execution_count": 14
        }
      ]
    },
    {
      "cell_type": "markdown",
      "metadata": {
        "id": "Q0VCXFgxmJJM"
      },
      "source": [
        ""
      ]
    },
    {
      "cell_type": "code",
      "metadata": {
        "id": "Debw6hGthHKv"
      },
      "source": [
        "def create_model():\n",
        "  model = tf.keras.models.Sequential([\n",
        "      tf.keras.layers.Conv2D(filters=32, kernel_size=3, padding='same', activation='relu', input_shape=(28,28,1)),\n",
        "      tf.keras.layers.MaxPooling2D(pool_size=2), \n",
        "      tf.keras.layers.Dropout(0.3), \n",
        "      tf.keras.layers.Conv2D(filters=64, kernel_size=3, padding='same', activation='relu'),\n",
        "      tf.keras.layers.MaxPooling2D(pool_size=2), \n",
        "      tf.keras.layers.Dropout(0.3), \n",
        "      tf.keras.layers.Flatten(),\n",
        "      tf.keras.layers.Dense(10, activation='softmax')\n",
        "  ]) \n",
        "  model.compile(loss=tf.keras.losses.categorical_crossentropy,\n",
        "              optimizer=tf.keras.optimizers.Adam(),\n",
        "              metrics=['accuracy'])\n",
        "  return model"
      ],
      "execution_count": 16,
      "outputs": []
    },
    {
      "cell_type": "code",
      "metadata": {
        "id": "KCMzey6NrN5B"
      },
      "source": [
        "model = create_model()"
      ],
      "execution_count": 17,
      "outputs": []
    },
    {
      "cell_type": "code",
      "metadata": {
        "colab": {
          "base_uri": "https://localhost:8080/"
        },
        "id": "6y9E5FfkrgD4",
        "outputId": "599b7dec-1d6a-4ebb-aba6-5981d4c73993"
      },
      "source": [
        "model.summary()"
      ],
      "execution_count": 18,
      "outputs": [
        {
          "output_type": "stream",
          "text": [
            "Model: \"sequential\"\n",
            "_________________________________________________________________\n",
            "Layer (type)                 Output Shape              Param #   \n",
            "=================================================================\n",
            "conv2d (Conv2D)              (None, 28, 28, 32)        320       \n",
            "_________________________________________________________________\n",
            "max_pooling2d (MaxPooling2D) (None, 14, 14, 32)        0         \n",
            "_________________________________________________________________\n",
            "dropout (Dropout)            (None, 14, 14, 32)        0         \n",
            "_________________________________________________________________\n",
            "conv2d_1 (Conv2D)            (None, 14, 14, 64)        18496     \n",
            "_________________________________________________________________\n",
            "max_pooling2d_1 (MaxPooling2 (None, 7, 7, 64)          0         \n",
            "_________________________________________________________________\n",
            "dropout_1 (Dropout)          (None, 7, 7, 64)          0         \n",
            "_________________________________________________________________\n",
            "flatten (Flatten)            (None, 3136)              0         \n",
            "_________________________________________________________________\n",
            "dense (Dense)                (None, 10)                31370     \n",
            "=================================================================\n",
            "Total params: 50,186\n",
            "Trainable params: 50,186\n",
            "Non-trainable params: 0\n",
            "_________________________________________________________________\n"
          ],
          "name": "stdout"
        }
      ]
    },
    {
      "cell_type": "code",
      "metadata": {
        "colab": {
          "base_uri": "https://localhost:8080/"
        },
        "id": "8RRB0VlzsByl",
        "outputId": "adb6bbd7-b4c9-444a-db0b-f3887aae3b72"
      },
      "source": [
        "%%time\n",
        "model.fit(train_images, train_labels,batch_size=64, epochs=100)"
      ],
      "execution_count": 55,
      "outputs": [
        {
          "output_type": "stream",
          "text": [
            "Epoch 1/100\n",
            "938/938 [==============================] - 3s 3ms/step - loss: 0.2539 - accuracy: 0.9049\n",
            "Epoch 2/100\n",
            "938/938 [==============================] - 3s 3ms/step - loss: 0.2520 - accuracy: 0.9080\n",
            "Epoch 3/100\n",
            "938/938 [==============================] - 3s 3ms/step - loss: 0.2495 - accuracy: 0.9073\n",
            "Epoch 4/100\n",
            "938/938 [==============================] - 3s 3ms/step - loss: 0.2502 - accuracy: 0.9068\n",
            "Epoch 5/100\n",
            "938/938 [==============================] - 3s 3ms/step - loss: 0.2502 - accuracy: 0.9057\n",
            "Epoch 6/100\n",
            "938/938 [==============================] - 3s 3ms/step - loss: 0.2479 - accuracy: 0.9082\n",
            "Epoch 7/100\n",
            "938/938 [==============================] - 3s 3ms/step - loss: 0.2508 - accuracy: 0.9067\n",
            "Epoch 8/100\n",
            "938/938 [==============================] - 3s 3ms/step - loss: 0.2467 - accuracy: 0.9086\n",
            "Epoch 9/100\n",
            "938/938 [==============================] - 3s 3ms/step - loss: 0.2491 - accuracy: 0.9082\n",
            "Epoch 10/100\n",
            "938/938 [==============================] - 3s 3ms/step - loss: 0.2490 - accuracy: 0.9079\n",
            "Epoch 11/100\n",
            "938/938 [==============================] - 3s 3ms/step - loss: 0.2485 - accuracy: 0.9082\n",
            "Epoch 12/100\n",
            "938/938 [==============================] - 3s 3ms/step - loss: 0.2482 - accuracy: 0.9071\n",
            "Epoch 13/100\n",
            "938/938 [==============================] - 3s 3ms/step - loss: 0.2503 - accuracy: 0.9072\n",
            "Epoch 14/100\n",
            "938/938 [==============================] - 3s 3ms/step - loss: 0.2493 - accuracy: 0.9070\n",
            "Epoch 15/100\n",
            "938/938 [==============================] - 3s 3ms/step - loss: 0.2495 - accuracy: 0.9077\n",
            "Epoch 16/100\n",
            "938/938 [==============================] - 3s 3ms/step - loss: 0.2516 - accuracy: 0.9058\n",
            "Epoch 17/100\n",
            "938/938 [==============================] - 3s 3ms/step - loss: 0.2470 - accuracy: 0.9078\n",
            "Epoch 18/100\n",
            "938/938 [==============================] - 3s 3ms/step - loss: 0.2501 - accuracy: 0.9062\n",
            "Epoch 19/100\n",
            "938/938 [==============================] - 3s 3ms/step - loss: 0.2475 - accuracy: 0.9087\n",
            "Epoch 20/100\n",
            "938/938 [==============================] - 3s 3ms/step - loss: 0.2485 - accuracy: 0.9086\n",
            "Epoch 21/100\n",
            "938/938 [==============================] - 3s 3ms/step - loss: 0.2494 - accuracy: 0.9074\n",
            "Epoch 22/100\n",
            "938/938 [==============================] - 3s 3ms/step - loss: 0.2478 - accuracy: 0.9083\n",
            "Epoch 23/100\n",
            "938/938 [==============================] - 3s 3ms/step - loss: 0.2469 - accuracy: 0.9084\n",
            "Epoch 24/100\n",
            "938/938 [==============================] - 3s 3ms/step - loss: 0.2474 - accuracy: 0.9073\n",
            "Epoch 25/100\n",
            "938/938 [==============================] - 3s 3ms/step - loss: 0.2469 - accuracy: 0.9090\n",
            "Epoch 26/100\n",
            "938/938 [==============================] - 3s 3ms/step - loss: 0.2482 - accuracy: 0.9085\n",
            "Epoch 27/100\n",
            "938/938 [==============================] - 3s 3ms/step - loss: 0.2491 - accuracy: 0.9082\n",
            "Epoch 28/100\n",
            "938/938 [==============================] - 3s 3ms/step - loss: 0.2473 - accuracy: 0.9086\n",
            "Epoch 29/100\n",
            "938/938 [==============================] - 3s 3ms/step - loss: 0.2473 - accuracy: 0.9065\n",
            "Epoch 30/100\n",
            "938/938 [==============================] - 3s 3ms/step - loss: 0.2473 - accuracy: 0.9081\n",
            "Epoch 31/100\n",
            "938/938 [==============================] - 3s 3ms/step - loss: 0.2500 - accuracy: 0.9072\n",
            "Epoch 32/100\n",
            "938/938 [==============================] - 3s 3ms/step - loss: 0.2467 - accuracy: 0.9095\n",
            "Epoch 33/100\n",
            "938/938 [==============================] - 3s 3ms/step - loss: 0.2445 - accuracy: 0.9109\n",
            "Epoch 34/100\n",
            "938/938 [==============================] - 3s 3ms/step - loss: 0.2478 - accuracy: 0.9081\n",
            "Epoch 35/100\n",
            "938/938 [==============================] - 3s 3ms/step - loss: 0.2474 - accuracy: 0.9085\n",
            "Epoch 36/100\n",
            "938/938 [==============================] - 3s 3ms/step - loss: 0.2451 - accuracy: 0.9088\n",
            "Epoch 37/100\n",
            "938/938 [==============================] - 3s 3ms/step - loss: 0.2452 - accuracy: 0.9082\n",
            "Epoch 38/100\n",
            "938/938 [==============================] - 3s 3ms/step - loss: 0.2466 - accuracy: 0.9086\n",
            "Epoch 39/100\n",
            "938/938 [==============================] - 3s 3ms/step - loss: 0.2460 - accuracy: 0.9082\n",
            "Epoch 40/100\n",
            "938/938 [==============================] - 3s 3ms/step - loss: 0.2486 - accuracy: 0.9070\n",
            "Epoch 41/100\n",
            "938/938 [==============================] - 3s 3ms/step - loss: 0.2469 - accuracy: 0.9079\n",
            "Epoch 42/100\n",
            "938/938 [==============================] - 3s 3ms/step - loss: 0.2447 - accuracy: 0.9101\n",
            "Epoch 43/100\n",
            "938/938 [==============================] - 3s 3ms/step - loss: 0.2439 - accuracy: 0.9104\n",
            "Epoch 44/100\n",
            "938/938 [==============================] - 3s 3ms/step - loss: 0.2449 - accuracy: 0.9080\n",
            "Epoch 45/100\n",
            "938/938 [==============================] - 3s 3ms/step - loss: 0.2477 - accuracy: 0.9079\n",
            "Epoch 46/100\n",
            "938/938 [==============================] - 3s 3ms/step - loss: 0.2460 - accuracy: 0.9087\n",
            "Epoch 47/100\n",
            "938/938 [==============================] - 3s 3ms/step - loss: 0.2461 - accuracy: 0.9087\n",
            "Epoch 48/100\n",
            "938/938 [==============================] - 3s 3ms/step - loss: 0.2473 - accuracy: 0.9081\n",
            "Epoch 49/100\n",
            "938/938 [==============================] - 3s 3ms/step - loss: 0.2460 - accuracy: 0.9078\n",
            "Epoch 50/100\n",
            "938/938 [==============================] - 3s 3ms/step - loss: 0.2455 - accuracy: 0.9092\n",
            "Epoch 51/100\n",
            "938/938 [==============================] - 3s 3ms/step - loss: 0.2436 - accuracy: 0.9087\n",
            "Epoch 52/100\n",
            "938/938 [==============================] - 3s 3ms/step - loss: 0.2452 - accuracy: 0.9081\n",
            "Epoch 53/100\n",
            "938/938 [==============================] - 3s 3ms/step - loss: 0.2456 - accuracy: 0.9093\n",
            "Epoch 54/100\n",
            "938/938 [==============================] - 3s 3ms/step - loss: 0.2436 - accuracy: 0.9099\n",
            "Epoch 55/100\n",
            "938/938 [==============================] - 3s 3ms/step - loss: 0.2445 - accuracy: 0.9104\n",
            "Epoch 56/100\n",
            "938/938 [==============================] - 3s 3ms/step - loss: 0.2441 - accuracy: 0.9095\n",
            "Epoch 57/100\n",
            "938/938 [==============================] - 3s 4ms/step - loss: 0.2448 - accuracy: 0.9081\n",
            "Epoch 58/100\n",
            "938/938 [==============================] - 3s 4ms/step - loss: 0.2454 - accuracy: 0.9083\n",
            "Epoch 59/100\n",
            "938/938 [==============================] - 3s 3ms/step - loss: 0.2462 - accuracy: 0.9083\n",
            "Epoch 60/100\n",
            "938/938 [==============================] - 3s 3ms/step - loss: 0.2459 - accuracy: 0.9084\n",
            "Epoch 61/100\n",
            "938/938 [==============================] - 3s 3ms/step - loss: 0.2410 - accuracy: 0.9111\n",
            "Epoch 62/100\n",
            "938/938 [==============================] - 3s 3ms/step - loss: 0.2450 - accuracy: 0.9076\n",
            "Epoch 63/100\n",
            "938/938 [==============================] - 3s 3ms/step - loss: 0.2452 - accuracy: 0.9074\n",
            "Epoch 64/100\n",
            "938/938 [==============================] - 3s 3ms/step - loss: 0.2424 - accuracy: 0.9097\n",
            "Epoch 65/100\n",
            "938/938 [==============================] - 3s 3ms/step - loss: 0.2420 - accuracy: 0.9089\n",
            "Epoch 66/100\n",
            "938/938 [==============================] - 3s 3ms/step - loss: 0.2451 - accuracy: 0.9100\n",
            "Epoch 67/100\n",
            "938/938 [==============================] - 3s 3ms/step - loss: 0.2402 - accuracy: 0.9100\n",
            "Epoch 68/100\n",
            "938/938 [==============================] - 3s 3ms/step - loss: 0.2451 - accuracy: 0.9092\n",
            "Epoch 69/100\n",
            "938/938 [==============================] - 3s 3ms/step - loss: 0.2439 - accuracy: 0.9101\n",
            "Epoch 70/100\n",
            "938/938 [==============================] - 3s 3ms/step - loss: 0.2424 - accuracy: 0.9093\n",
            "Epoch 71/100\n",
            "938/938 [==============================] - 3s 3ms/step - loss: 0.2430 - accuracy: 0.9101\n",
            "Epoch 72/100\n",
            "938/938 [==============================] - 3s 3ms/step - loss: 0.2422 - accuracy: 0.9099\n",
            "Epoch 73/100\n",
            "938/938 [==============================] - 3s 3ms/step - loss: 0.2456 - accuracy: 0.9094\n",
            "Epoch 74/100\n",
            "938/938 [==============================] - 3s 3ms/step - loss: 0.2414 - accuracy: 0.9106\n",
            "Epoch 75/100\n",
            "938/938 [==============================] - 3s 3ms/step - loss: 0.2439 - accuracy: 0.9101\n",
            "Epoch 76/100\n",
            "938/938 [==============================] - 3s 3ms/step - loss: 0.2440 - accuracy: 0.9087\n",
            "Epoch 77/100\n",
            "938/938 [==============================] - 3s 3ms/step - loss: 0.2418 - accuracy: 0.9095\n",
            "Epoch 78/100\n",
            "938/938 [==============================] - 3s 3ms/step - loss: 0.2422 - accuracy: 0.9099\n",
            "Epoch 79/100\n",
            "938/938 [==============================] - 3s 3ms/step - loss: 0.2413 - accuracy: 0.9107\n",
            "Epoch 80/100\n",
            "938/938 [==============================] - 3s 3ms/step - loss: 0.2436 - accuracy: 0.9092\n",
            "Epoch 81/100\n",
            "938/938 [==============================] - 3s 3ms/step - loss: 0.2444 - accuracy: 0.9092\n",
            "Epoch 82/100\n",
            "938/938 [==============================] - 3s 3ms/step - loss: 0.2438 - accuracy: 0.9091\n",
            "Epoch 83/100\n",
            "938/938 [==============================] - 3s 3ms/step - loss: 0.2426 - accuracy: 0.9100\n",
            "Epoch 84/100\n",
            "938/938 [==============================] - 3s 3ms/step - loss: 0.2448 - accuracy: 0.9084\n",
            "Epoch 85/100\n",
            "938/938 [==============================] - 3s 3ms/step - loss: 0.2433 - accuracy: 0.9101\n",
            "Epoch 86/100\n",
            "938/938 [==============================] - 3s 3ms/step - loss: 0.2420 - accuracy: 0.9106\n",
            "Epoch 87/100\n",
            "938/938 [==============================] - 3s 3ms/step - loss: 0.2413 - accuracy: 0.9104\n",
            "Epoch 88/100\n",
            "938/938 [==============================] - 3s 3ms/step - loss: 0.2390 - accuracy: 0.9118\n",
            "Epoch 89/100\n",
            "938/938 [==============================] - 3s 3ms/step - loss: 0.2438 - accuracy: 0.9090\n",
            "Epoch 90/100\n",
            "938/938 [==============================] - 3s 3ms/step - loss: 0.2392 - accuracy: 0.9111\n",
            "Epoch 91/100\n",
            "938/938 [==============================] - 3s 3ms/step - loss: 0.2444 - accuracy: 0.9087\n",
            "Epoch 92/100\n",
            "938/938 [==============================] - 3s 3ms/step - loss: 0.2407 - accuracy: 0.9111\n",
            "Epoch 93/100\n",
            "938/938 [==============================] - 3s 3ms/step - loss: 0.2426 - accuracy: 0.9093\n",
            "Epoch 94/100\n",
            "938/938 [==============================] - 3s 3ms/step - loss: 0.2458 - accuracy: 0.9072\n",
            "Epoch 95/100\n",
            "938/938 [==============================] - 3s 3ms/step - loss: 0.2420 - accuracy: 0.9094\n",
            "Epoch 96/100\n",
            "938/938 [==============================] - 3s 3ms/step - loss: 0.2428 - accuracy: 0.9094\n",
            "Epoch 97/100\n",
            "938/938 [==============================] - 3s 3ms/step - loss: 0.2406 - accuracy: 0.9100\n",
            "Epoch 98/100\n",
            "938/938 [==============================] - 3s 3ms/step - loss: 0.2400 - accuracy: 0.9107\n",
            "Epoch 99/100\n",
            "938/938 [==============================] - 3s 3ms/step - loss: 0.2400 - accuracy: 0.9104\n",
            "Epoch 100/100\n",
            "938/938 [==============================] - 3s 3ms/step - loss: 0.2416 - accuracy: 0.9098\n",
            "CPU times: user 5min, sys: 53.3 s, total: 5min 53s\n",
            "Wall time: 5min 4s\n"
          ],
          "name": "stdout"
        },
        {
          "output_type": "execute_result",
          "data": {
            "text/plain": [
              "<tensorflow.python.keras.callbacks.History at 0x7f7780564b38>"
            ]
          },
          "metadata": {
            "tags": []
          },
          "execution_count": 55
        }
      ]
    },
    {
      "cell_type": "code",
      "metadata": {
        "colab": {
          "base_uri": "https://localhost:8080/"
        },
        "id": "w70TF3XUtnBP",
        "outputId": "926ca887-7b97-434f-8179-fd0d9efcb613"
      },
      "source": [
        "model.evaluate(test_images, test_labels, verbose=2)"
      ],
      "execution_count": 57,
      "outputs": [
        {
          "output_type": "stream",
          "text": [
            "313/313 - 1s - loss: 0.2522 - accuracy: 0.9096\n"
          ],
          "name": "stdout"
        },
        {
          "output_type": "execute_result",
          "data": {
            "text/plain": [
              "[0.2522448003292084, 0.909600019454956]"
            ]
          },
          "metadata": {
            "tags": []
          },
          "execution_count": 57
        }
      ]
    },
    {
      "cell_type": "code",
      "metadata": {
        "id": "86iMTNHUd7Se"
      },
      "source": [
        ""
      ],
      "execution_count": null,
      "outputs": []
    }
  ]
}